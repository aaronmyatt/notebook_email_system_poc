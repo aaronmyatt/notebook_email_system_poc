{
 "cells": [
  {
   "cell_type": "markdown",
   "metadata": {},
   "source": [
    "### Stakeholder requirements\n",
    "\n",
    "Each user may receive an email based on one of the following conditions:\n",
    "\n",
    "• Active: Sends an email to this user daily.\n",
    "\n",
    "• Not Responsive: Sends an email to this user once every 3 days.\n",
    "\n",
    "• Inactive: Don’t sends any email to this user."
   ]
  },
  {
   "cell_type": "code",
   "execution_count": null,
   "metadata": {},
   "outputs": [],
   "source": [
    "from datetime import date, timedelta\n",
    "from django.db.models import Q\n",
    "\n",
    "TODAY = date.today()\n",
    "THREE_DAYS_AGO = (date.today() - timedelta(3))"
   ]
  },
  {
   "cell_type": "markdown",
   "metadata": {
    "collapsed": true
   },
   "source": [
    "Exclude inactive users"
   ]
  },
  {
   "cell_type": "code",
   "execution_count": null,
   "metadata": {},
   "outputs": [],
   "source": [
    "# no action necessary since we select from only Active or Non-responsive users"
   ]
  },
  {
   "cell_type": "markdown",
   "metadata": {},
   "source": [
    "Include non-responsive users - IF their last email was more than 3 days ago"
   ]
  },
  {
   "cell_type": "code",
   "execution_count": null,
   "metadata": {},
   "outputs": [],
   "source": [
    "include_nr = Q(activity__state='NR', emails__last_email__lt=THREE_DAYS_AGO)"
   ]
  },
  {
   "cell_type": "markdown",
   "metadata": {},
   "source": [
    "Include active users who have not recieved an email today"
   ]
  },
  {
   "cell_type": "code",
   "execution_count": null,
   "metadata": {},
   "outputs": [],
   "source": [
    "include_active = Q(activity__state='A', emails__last_email__lt=TODAY)"
   ]
  },
  {
   "cell_type": "markdown",
   "metadata": {},
   "source": [
    "Build Query"
   ]
  },
  {
   "cell_type": "code",
   "execution_count": null,
   "metadata": {},
   "outputs": [],
   "source": [
    "users = users.objects.filter(include_nr | include_active)"
   ]
  }
 ],
 "metadata": {
  "kernelspec": {
   "display_name": "Django Shell-Plus",
   "language": "python",
   "name": "django_extensions"
  },
  "language_info": {
   "codemirror_mode": {
    "name": "ipython",
    "version": 3
   },
   "file_extension": ".py",
   "mimetype": "text/x-python",
   "name": "python",
   "nbconvert_exporter": "python",
   "pygments_lexer": "ipython3",
   "version": "3.6.0"
  }
 },
 "nbformat": 4,
 "nbformat_minor": 2
}
