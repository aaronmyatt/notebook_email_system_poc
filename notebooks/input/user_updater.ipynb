{
 "cells": [
  {
   "cell_type": "markdown",
   "metadata": {},
   "source": [
    "Every day before sending the emails, the system updates all users' state, based on the following rules:\n",
    "\n",
    "• If the user is “Active” and user last login was more than 4 days ago, then mark this user as “Not Responsive”\n",
    "\n",
    "• If the user is “Not responsive” and user last login was more than 2 days ago, then mark this user as “Inactive”\n",
    "\n",
    "• If the user is “Not responsive” and logged in during the past 2 days, mark this user as “Active”"
   ]
  },
  {
   "cell_type": "code",
   "execution_count": null,
   "metadata": {},
   "outputs": [],
   "source": [
    "from datetime import timedelta\n",
    "from django.utils.timezone import now\n",
    "\n",
    "\n",
    "NOW = now()\n",
    "FOUR_DAYS_AGO = (NOW - timedelta(4))\n",
    "THREE_DAYS_AGO = (NOW - timedelta(3))\n",
    "TWO_DAYS_AGO = (NOW - timedelta(2))\n",
    "user_updated_count = 0"
   ]
  },
  {
   "cell_type": "markdown",
   "metadata": {},
   "source": [
    "Not Responsive users who have not logged in recently are set to Inactive\n",
    "\n",
    "*CONCERN:* Active users who are set to Not Responsive will be set to Inactive **immediately**, since their `last_login` is already `FOUR_DAYS_AGO` - is this desired behaviour? Alternatively we can:\n",
    "\n",
    "1) reset the users `last_login` date/time\n",
    "\n",
    "2) update Active users last, thus Not Responsive users will be updated 1 day later, rather than immediately\n",
    "\n",
    "3) use `SIX_DAYS_AGO` (likely the better option, in this mobs opinion ;))\n",
    "\n",
    "*NOTE*: option two is currently implemented to satisfy test cases"
   ]
  },
  {
   "cell_type": "code",
   "execution_count": null,
   "metadata": {},
   "outputs": [],
   "source": [
    "updated_count = user_activity.objects.filter(state='NR', user__last_login__lt=TWO_DAYS_AGO).update(state='I')\n",
    "user_updated_count += updated_count"
   ]
  },
  {
   "cell_type": "markdown",
   "metadata": {},
   "source": [
    "Active users who have not logged in recently are set to Not Responsive"
   ]
  },
  {
   "cell_type": "code",
   "execution_count": null,
   "metadata": {},
   "outputs": [],
   "source": [
    "updated_count = user_activity.objects.filter(state='A', user__last_login__lt=FOUR_DAYS_AGO).update(state='NR')\n",
    "user_updated_count += updated_count"
   ]
  },
  {
   "cell_type": "markdown",
   "metadata": {},
   "source": [
    "Not Responsive users with a recent login are set to Active"
   ]
  },
  {
   "cell_type": "code",
   "execution_count": null,
   "metadata": {},
   "outputs": [],
   "source": [
    "updated_count = user_activity.objects.filter(state='NR', user__last_login__gt=THREE_DAYS_AGO).update(state='A')\n",
    "user_updated_count += updated_count"
   ]
  }
 ],
 "metadata": {
  "kernelspec": {
   "display_name": "Python 3",
   "language": "python",
   "name": "python3"
  },
  "language_info": {
   "codemirror_mode": {
    "name": "ipython",
    "version": 3
   },
   "file_extension": ".py",
   "mimetype": "text/x-python",
   "name": "python",
   "nbconvert_exporter": "python",
   "pygments_lexer": "ipython3",
   "version": "3.6.0"
  }
 },
 "nbformat": 4,
 "nbformat_minor": 2
}
