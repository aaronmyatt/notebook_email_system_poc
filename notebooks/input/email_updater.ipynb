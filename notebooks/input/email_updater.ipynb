{
 "cells": [
  {
   "cell_type": "markdown",
   "metadata": {},
   "source": [
    "Your task is to build an emailing system which send emails to users once every day. Each user may receive an email based on one of the following states:\n",
    "\n",
    "• Active: Sends an email to this user daily.\n",
    "\n",
    "• Not Responsive: Sends an email to this user once every 3 days.\n",
    "\n",
    "• Inactive: Don’t sends any email to this user."
   ]
  },
  {
   "cell_type": "markdown",
   "metadata": {},
   "source": [
    "Every day before sending the emails, the system updates all users' state, based on the following rules:\n",
    "\n",
    "• If the user is “Active” and user last login was more than 4 days ago, then mark this user as “Not Responsive”\n",
    "\n",
    "• If the user is “Not responsive” and user last login was more than 2 days ago, then mark this user as “Inactive”\n",
    "\n",
    "• If the user is “Not responsive” and logged in during the past 2 days, mark this user as “Active”"
   ]
  },
  {
   "cell_type": "markdown",
   "metadata": {},
   "source": [
    "Tips"
   ]
  },
  {
   "cell_type": "markdown",
   "metadata": {},
   "source": [
    "These requirements are regularly renegotiated, so we want the rules to be as flexible as possible as they can change in the future with little notice.\n",
    "\n",
    "The emailing system has a dashboard where we can see the emails that are sent and to which user it was sent to.\n",
    "\n",
    "• We do not want you to lose a weekend trying to build this. Only spend enough time required to produce an appropriate, clean, testable and maintainable solution.\n",
    "\n",
    "• We do not want you to lose a weekend trying to build this. Only spend enough time required to produce an appropriate, clean, testable and maintainable solution.\n",
    "\n",
    "• We do not want you to lose a weekend trying to build this. Only spend enough time required to produce an appropriate, clean, testable and maintainable solution.\n",
    "\n",
    "• Shiny is not important but how you make it shiny is critical.\n",
    "\n",
    "• Pay attention to your technology choices, how programming languages, libraries, and tools were chosen and how tradeoffs in those choices were handled.\n",
    "\n",
    "• Deliver any code, test code and test data required so that this can be fully reviewed for accuracy and completeness of the solution that you prepared."
   ]
  },
  {
   "cell_type": "code",
   "execution_count": 14,
   "metadata": {
    "tags": [
     "parameters"
    ]
   },
   "outputs": [],
   "source": [
    "state = ''\n",
    "last_login = ''"
   ]
  },
  {
   "cell_type": "code",
   "execution_count": 12,
   "metadata": {},
   "outputs": [],
   "source": [
    "import datetime as dt\n",
    "\n",
    "def updater(state, last_login):\n",
    "    days_since_last_login = last_login-dt.date.today()\n",
    "    if state == 'Active' and days_since_last_login > 4:\n",
    "        return 'Not Responsive'\n",
    "    elif state == 'Not Responsive' and days_since_last_login > 2:\n",
    "        return 'Inactive'\n",
    "    elif state == 'Not Responsive' and days_since_last_login <= 2:\n",
    "        return 'Active'\n",
    "    return None"
   ]
  },
  {
   "cell_type": "code",
   "execution_count": null,
   "metadata": {},
   "outputs": [],
   "source": []
  }
 ],
 "metadata": {
  "celltoolbar": "Tags",
  "kernelspec": {
   "display_name": "Python 3",
   "language": "python",
   "name": "python3"
  },
  "language_info": {
   "codemirror_mode": {
    "name": "ipython",
    "version": 3
   },
   "file_extension": ".py",
   "mimetype": "text/x-python",
   "name": "python",
   "nbconvert_exporter": "python",
   "pygments_lexer": "ipython3",
   "version": "3.6.0"
  }
 },
 "nbformat": 4,
 "nbformat_minor": 2
}
